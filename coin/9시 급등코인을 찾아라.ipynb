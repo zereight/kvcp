{
 "cells": [
  {
   "cell_type": "code",
   "execution_count": 9,
   "id": "23712f7f",
   "metadata": {},
   "outputs": [
    {
     "name": "stdout",
     "output_type": "stream",
     "text": [
      "24 / 100개 감지됨\n",
      "KRW-MOC 구매\n",
      "  currency          balance locked avg_buy_price  avg_buy_price_modified  \\\n",
      "0      KRW   41592.99408581      0             0                    True   \n",
      "1   APENFT  512603.10084279      0             0                   False   \n",
      "\n",
      "  unit_currency  \n",
      "0           KRW  \n",
      "1           KRW  \n",
      "245.0에 구매한거를 255.0에 지정가매도\n",
      "KRW-MOC 판매\n"
     ]
    },
    {
     "ename": "KeyboardInterrupt",
     "evalue": "",
     "output_type": "error",
     "traceback": [
      "\u001b[0;31m---------------------------------------------------------------------------\u001b[0m",
      "\u001b[0;31mKeyboardInterrupt\u001b[0m                         Traceback (most recent call last)",
      "\u001b[0;32m/var/folders/jp/flvjl88x1ld4k0yfl3x8jhcr0000gn/T/ipykernel_37133/673366218.py\u001b[0m in \u001b[0;36m<module>\u001b[0;34m\u001b[0m\n\u001b[1;32m     80\u001b[0m \u001b[0;34m\u001b[0m\u001b[0m\n\u001b[1;32m     81\u001b[0m         \u001b[0;32mwhile\u001b[0m \u001b[0;32mTrue\u001b[0m\u001b[0;34m:\u001b[0m\u001b[0;34m\u001b[0m\u001b[0;34m\u001b[0m\u001b[0m\n\u001b[0;32m---> 82\u001b[0;31m             \u001b[0m현재날짜\u001b[0m \u001b[0;34m=\u001b[0m \u001b[0mdatetime\u001b[0m\u001b[0;34m.\u001b[0m\u001b[0mdatetime\u001b[0m\u001b[0;34m.\u001b[0m\u001b[0mnow\u001b[0m\u001b[0;34m(\u001b[0m\u001b[0mtimezone\u001b[0m\u001b[0;34m(\u001b[0m\u001b[0;34m'Asia/Seoul'\u001b[0m\u001b[0;34m)\u001b[0m\u001b[0;34m)\u001b[0m\u001b[0;34m.\u001b[0m\u001b[0mstrftime\u001b[0m\u001b[0;34m(\u001b[0m\u001b[0;34m'%Y-%m-%d %H:%M'\u001b[0m\u001b[0;34m)\u001b[0m\u001b[0;34m\u001b[0m\u001b[0;34m\u001b[0m\u001b[0m\n\u001b[0m\u001b[1;32m     83\u001b[0m             \u001b[0;32mif\u001b[0m\u001b[0;34m(\u001b[0m\u001b[0;34m\"08:59\"\u001b[0m \u001b[0;32min\u001b[0m \u001b[0m현재날짜\u001b[0m\u001b[0;34m)\u001b[0m\u001b[0;34m:\u001b[0m\u001b[0;34m\u001b[0m\u001b[0;34m\u001b[0m\u001b[0m\n\u001b[1;32m     84\u001b[0m                 \u001b[0;31m# 9시가 되면, 원화마켓에 대해서 웹소켓 연결\u001b[0m\u001b[0;34m\u001b[0m\u001b[0;34m\u001b[0m\u001b[0m\n",
      "\u001b[0;32m~/opt/anaconda3/lib/python3.9/site-packages/pytz/__init__.py\u001b[0m in \u001b[0;36mtimezone\u001b[0;34m(zone)\u001b[0m\n\u001b[1;32m    178\u001b[0m \u001b[0;34m\u001b[0m\u001b[0m\n\u001b[1;32m    179\u001b[0m     \u001b[0mzone\u001b[0m \u001b[0;34m=\u001b[0m \u001b[0m_case_insensitive_zone_lookup\u001b[0m\u001b[0;34m(\u001b[0m\u001b[0m_unmunge_zone\u001b[0m\u001b[0;34m(\u001b[0m\u001b[0mzone\u001b[0m\u001b[0;34m)\u001b[0m\u001b[0;34m)\u001b[0m\u001b[0;34m\u001b[0m\u001b[0;34m\u001b[0m\u001b[0m\n\u001b[0;32m--> 180\u001b[0;31m     \u001b[0;32mif\u001b[0m \u001b[0mzone\u001b[0m \u001b[0;32mnot\u001b[0m \u001b[0;32min\u001b[0m \u001b[0m_tzinfo_cache\u001b[0m\u001b[0;34m:\u001b[0m\u001b[0;34m\u001b[0m\u001b[0;34m\u001b[0m\u001b[0m\n\u001b[0m\u001b[1;32m    181\u001b[0m         \u001b[0;32mif\u001b[0m \u001b[0mzone\u001b[0m \u001b[0;32min\u001b[0m \u001b[0mall_timezones_set\u001b[0m\u001b[0;34m:\u001b[0m  \u001b[0;31m# noqa\u001b[0m\u001b[0;34m\u001b[0m\u001b[0;34m\u001b[0m\u001b[0m\n\u001b[1;32m    182\u001b[0m             \u001b[0mfp\u001b[0m \u001b[0;34m=\u001b[0m \u001b[0mopen_resource\u001b[0m\u001b[0;34m(\u001b[0m\u001b[0mzone\u001b[0m\u001b[0;34m)\u001b[0m\u001b[0;34m\u001b[0m\u001b[0;34m\u001b[0m\u001b[0m\n",
      "\u001b[0;31mKeyboardInterrupt\u001b[0m: "
     ]
    }
   ],
   "source": [
    "# https://docs.upbit.com/docs/upbit-quotation-websocket\n",
    "\n",
    "import multiprocessing as mp\n",
    "import pyupbit\n",
    "import pandas as pd\n",
    "import numpy as np\n",
    "import datetime\n",
    "import json\n",
    "from pytz import timezone\n",
    "from sendMail import send_email\n",
    "import time\n",
    "import requests, jwt, uuid\n",
    "\n",
    "## 인증\n",
    "f = open(\"업비트정보.private.json\", \"r\")\n",
    "api_key = json.load(f)\n",
    "f.close()\n",
    "A_key = api_key[\"accessKey\"]  # 본인 access_key 키로 변경\n",
    "S_key = api_key[\"secretKey\"]  # 본인 secret_key 키로 변경\n",
    "\n",
    "손절률 = 0.90\n",
    "손익률 = 1.03\n",
    "\n",
    "내가_구매했던_가격 = 0\n",
    "최대수집데이터량 = 10000\n",
    "급등코인 = \"\"\n",
    "\n",
    "제외코인 = [\"KRW-BTT\", \"KRW-XRP\"]\n",
    "\n",
    "def get_price_scale_tick(_price):   \n",
    "    if _price >= 2000000: \n",
    "        return [-3, 1000]\n",
    "    elif _price >= 1000000: \n",
    "        return [-2, 500]\n",
    "    elif _price >= 500000: \n",
    "        return [-2, 100]\n",
    "    elif _price >= 100000: \n",
    "        return [-1, 50]\n",
    "    elif _price >= 10000: \n",
    "        return [-1, 10]\n",
    "    elif _price >= 1000: \n",
    "        return [-1, 5]\n",
    "    elif _price >= 100: \n",
    "        return [0, 1]\n",
    "    elif _price >= 10: \n",
    "        return [1, 0.1]\n",
    "    elif _price >= 0: \n",
    "        return [2, 0.01]\n",
    "\n",
    "def 시장가매수(market_code):\n",
    "    print(f'{market_code} 구매')\n",
    "    ## API로 업비트에서 내 계좌 조회\n",
    "    my_exchange_account = pd.DataFrame(requests.get(\"https://api.upbit.com/v1/accounts\", headers={\"Authorization\": 'Bearer {}'.format(jwt.encode({'access_key': A_key,'nonce': str(uuid.uuid4())}, S_key))}).json())\n",
    "    print(my_exchange_account)\n",
    "    now_krw = float(my_exchange_account[my_exchange_account['currency'] == 'KRW']['balance'][0])\n",
    "    # 원화의 50%를 매수, 보유원화의 75%를 넘으면 에러를 뱉는다는 소리가 있음\n",
    "    order_amount = round(now_krw * 0.5)\n",
    "    send_email(f'{market_code} 구매', f\"9시 펌핑코인 {order_amount}원 시장가 매수\")\n",
    "\n",
    "    buy_market_order_data = pd.DataFrame.from_dict(pyupbit.Upbit(A_key, S_key).buy_market_order(market_code, order_amount), orient='index').T\n",
    "\n",
    "    return buy_market_order_data\n",
    "\n",
    "def 지정가매도(market_code, 판매할가격):\n",
    "    print(f'{market_code} 판매')\n",
    "    order_quantity = pyupbit.Upbit(A_key, S_key).get_balance(market_code)\n",
    "    send_email(f'{market_code} 판매', f\"9시 펌핑코인 {order_quantity}개 지정가 매도\")\n",
    "    sell_market_order_data = pd.DataFrame.from_dict(\n",
    "        pyupbit.Upbit(A_key, S_key).sell_limit_order(market_code, 판매할가격 ,order_quantity), orient='index').T\n",
    "\n",
    "    return sell_market_order_data\n",
    "\n",
    "## 본 로직\n",
    "if __name__ == \"__main__\":\n",
    "    \n",
    "    # 로그인테스트, 에러가나면 오류있는거\n",
    "    if(pyupbit.Upbit(A_key, S_key).get_balance(\"KRW-BTC\") == None):\n",
    "        print(\"업비트 로그인 에러\")\n",
    "    else:\n",
    "\n",
    "        excel_data = pd.DataFrame()\n",
    "        count  = 0\n",
    "        while count != 최대수집데이터량:\n",
    "            현재날짜 = datetime.datetime.now(timezone('Asia/Seoul')).strftime('%Y-%m-%d %H:%M')\n",
    "            if(\"09:00\" in 현재날짜):\n",
    "                # 9시가 되면, 원화마켓에 대해서 웹소켓 연결\n",
    "                krw_tickers = pyupbit.get_tickers(fiat=\"KRW\")\n",
    "                krw_tickers = list(filter(lambda x: x not in 제외코인, krw_tickers))\n",
    "                \n",
    "                queue = mp.Queue()\n",
    "                proc = mp.Process(\n",
    "                    target=pyupbit.WebSocketClient,\n",
    "                    args=('ticker', krw_tickers, queue),\n",
    "                    daemon=True\n",
    "                )\n",
    "                proc.start()\n",
    "\n",
    "                # 9시 웹소켓 로직 실행\n",
    "                while True:\n",
    "                    count+=1\n",
    "                    data = queue.get()\n",
    "\n",
    "                    ts = data['trade_timestamp']\n",
    "                    data[\"trade_timestamp\"] = datetime.datetime.fromtimestamp(ts/1000)\n",
    "                    data[\"signed_change_rate\"] = data[\"signed_change_rate\"] * 100\n",
    "                    data[\"change_rate\"] = data[\"change_rate\"] * 100\n",
    "\n",
    "                    # 엑셀 데이터 수집\n",
    "                    if(len(excel_data) > 0):\n",
    "                        new_excel_data = pd.DataFrame(data, index=[len(excel_data)])\n",
    "                    else:\n",
    "                        new_excel_data = pd.DataFrame(data, index=[0])\n",
    "\n",
    "                    if len(excel_data) == 0:\n",
    "                        excel_data = new_excel_data\n",
    "                    else:\n",
    "                        excel_data = pd.concat([excel_data, new_excel_data])\n",
    "                        \n",
    "                    # 수집 다했으면 종료\n",
    "                    if(count == 최대수집데이터량):\n",
    "                        excel_data.to_excel(f'급등데이터_{현재날짜}.xlsx', index=False)\n",
    "                        break\n",
    "\n",
    "                    # 급등여부 판단\n",
    "                    # 100개의 데이터를 받았는데, 그중에 매수신호를 가장 많이 받은 녀석 구매\n",
    "                    if (count == 100):\n",
    "                        최근_n개데이터 = excel_data[-100:]\n",
    "                        급등코인 = 최근_n개데이터[최근_n개데이터[\"ask_bid\"] == \"BID\"][\"code\"].value_counts(sort=True).index[0]\n",
    "                        급등코인_n개중_몇개 = 최근_n개데이터[최근_n개데이터[\"ask_bid\"] == \"BID\"][\"code\"].value_counts(sort=True).values[0]\n",
    "                        \n",
    "                        print(f\"{급등코인_n개중_몇개} / 100개 감지됨\")\n",
    "                        if(급등코인_n개중_몇개 > 50):\n",
    "                            구매데이터 = 시장가매수(급등코인)\n",
    "\n",
    "                            내가_구매했던_데이터 = pyupbit.Upbit(A_key, S_key).get_order(구매데이터[\"uuid\"][0])\n",
    "\n",
    "                            # 아직 체결이 안된 경우가 있을 수 있는듯\n",
    "                            while(len(내가_구매했던_데이터[\"trades\"]) == 0):\n",
    "                                pass\n",
    "\n",
    "                            내가_구매했던_코인가격 = float(내가_구매했던_데이터[\"trades\"][0][\"price\"])\n",
    "                            지정가판매가격 = round(내가_구매했던_코인가격 * 손익률 , get_price_scale_tick(내가_구매했던_코인가격 * 손익률)[0])\n",
    "                            print(f'{내가_구매했던_코인가격}에 구매한거를 {지정가판매가격}에 지정가매도')\n",
    "                            지정가매도(급등코인, 지정가판매가격)\n",
    "\n",
    "\n",
    "                # 완전히 종료\n",
    "                proc.kill()\n",
    "                proc.join()"
   ]
  },
  {
   "cell_type": "code",
   "execution_count": 5,
   "id": "6036b58c",
   "metadata": {},
   "outputs": [
    {
     "data": {
      "text/plain": [
       "{'uuid': 'ed2d10f1-c9b0-4ad2-981b-2b69251776c1',\n",
       " 'side': 'bid',\n",
       " 'ord_type': 'price',\n",
       " 'price': '22247',\n",
       " 'state': 'wait',\n",
       " 'market': 'KRW-MOC',\n",
       " 'created_at': '2023-02-23T09:00:06+09:00',\n",
       " 'reserved_fee': '11.1235',\n",
       " 'remaining_fee': '11.1235',\n",
       " 'paid_fee': '0',\n",
       " 'locked': '22258.1235',\n",
       " 'executed_volume': '0',\n",
       " 'trades_count': 0,\n",
       " 'trades': []}"
      ]
     },
     "execution_count": 5,
     "metadata": {},
     "output_type": "execute_result"
    }
   ],
   "source": [
    "내가_구매했던_데이터"
   ]
  },
  {
   "cell_type": "code",
   "execution_count": 7,
   "id": "5250c837",
   "metadata": {},
   "outputs": [
    {
     "data": {
      "text/plain": [
       "0    ed2d10f1-c9b0-4ad2-981b-2b69251776c1\n",
       "Name: uuid, dtype: object"
      ]
     },
     "execution_count": 7,
     "metadata": {},
     "output_type": "execute_result"
    }
   ],
   "source": [
    "구매데이터[\"uuid\"]"
   ]
  },
  {
   "cell_type": "code",
   "execution_count": 8,
   "id": "f6c84de4",
   "metadata": {},
   "outputs": [
    {
     "data": {
      "text/plain": [
       "{'uuid': 'ed2d10f1-c9b0-4ad2-981b-2b69251776c1',\n",
       " 'side': 'bid',\n",
       " 'ord_type': 'price',\n",
       " 'price': '22247',\n",
       " 'state': 'cancel',\n",
       " 'market': 'KRW-MOC',\n",
       " 'created_at': '2023-02-23T09:00:06+09:00',\n",
       " 'reserved_fee': '11.1235',\n",
       " 'remaining_fee': '0.00000000019',\n",
       " 'paid_fee': '11.12349999981',\n",
       " 'locked': '0.00000038019',\n",
       " 'executed_volume': '133.21556886',\n",
       " 'trades_count': 1,\n",
       " 'trades': [{'market': 'KRW-MOC',\n",
       "   'uuid': '9cc52757-146f-4fa1-b4ea-6c5366d57a0e',\n",
       "   'price': '167',\n",
       "   'volume': '133.21556886',\n",
       "   'funds': '22246.99999962',\n",
       "   'trend': 'up',\n",
       "   'created_at': '2023-02-23T09:00:05+09:00',\n",
       "   'side': 'bid'}]}"
      ]
     },
     "execution_count": 8,
     "metadata": {},
     "output_type": "execute_result"
    }
   ],
   "source": [
    "pyupbit.Upbit(A_key, S_key).get_order(구매데이터[\"uuid\"][0])"
   ]
  },
  {
   "cell_type": "code",
   "execution_count": null,
   "id": "ebbe3abe",
   "metadata": {},
   "outputs": [],
   "source": []
  }
 ],
 "metadata": {
  "kernelspec": {
   "display_name": "Python 3 (ipykernel)",
   "language": "python",
   "name": "python3"
  },
  "language_info": {
   "codemirror_mode": {
    "name": "ipython",
    "version": 3
   },
   "file_extension": ".py",
   "mimetype": "text/x-python",
   "name": "python",
   "nbconvert_exporter": "python",
   "pygments_lexer": "ipython3",
   "version": "3.9.13"
  }
 },
 "nbformat": 4,
 "nbformat_minor": 5
}
