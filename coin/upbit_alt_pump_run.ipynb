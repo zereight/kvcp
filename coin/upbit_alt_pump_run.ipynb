{
 "cells": [
  {
   "cell_type": "code",
   "execution_count": null,
   "id": "90b7d443",
   "metadata": {},
   "outputs": [],
   "source": [
    "# 원화마켓o, 유의종목x, BTCx 코인에 대해서\n",
    "# 실시간으로 1분봉의 정보들을 가져오고\n",
    "# 1초마다 체크해서\n",
    "# 1분안에 이전 1분봉대비 10%가 오른 코인에 대해서\n",
    "# 원화의 20%를 시장가매수하고\n",
    "# 1초마다 체크해서\n",
    "# 5%이상의 수익이 나오면 시장가매도를 한다.\n",
    "# 계속 반복한다."
   ]
  },
  {
   "cell_type": "code",
   "execution_count": 18,
   "id": "ce3bcf1d",
   "metadata": {},
   "outputs": [],
   "source": [
    "import requests, time, jwt, uuid, pyupbit, datetime\n",
    "import pandas as pd\n",
    "import numpy as np\n",
    "from sendMail import send_email\n",
    "import json\n",
    "\n",
    "f = open(\"업비트정보.private.json\", \"r\")\n",
    "api_key = json.load(f)\n",
    "f.close()\n",
    "\n",
    "A_key = api_key[\"accessKey\"]  # 본인 access_key 키로 변경\n",
    "S_key = api_key[\"secretKey\"]  # 본인 secret_key 키로 변경"
   ]
  },
  {
   "cell_type": "code",
   "execution_count": 10,
   "id": "e480068d",
   "metadata": {},
   "outputs": [
    {
     "name": "stdout",
     "output_type": "stream",
     "text": [
      "['KRW-BTC', 'KRW-ETH', 'KRW-NEO', 'KRW-MTL', 'KRW-XRP', 'KRW-ETC', 'KRW-OMG', 'KRW-SNT', 'KRW-WAVES', 'KRW-XEM', 'KRW-QTUM', 'KRW-LSK', 'KRW-STEEM', 'KRW-XLM', 'KRW-ARDR', 'KRW-ARK', 'KRW-STORJ', 'KRW-GRS', 'KRW-REP', 'KRW-ADA', 'KRW-SBD', 'KRW-POWR', 'KRW-BTG', 'KRW-ICX', 'KRW-EOS', 'KRW-TRX', 'KRW-SC', 'KRW-ONT', 'KRW-ZIL', 'KRW-POLYX', 'KRW-ZRX', 'KRW-LOOM', 'KRW-BCH', 'KRW-BAT', 'KRW-IOST', 'KRW-RFR', 'KRW-CVC', 'KRW-IQ', 'KRW-IOTA', 'KRW-HIFI', 'KRW-ONG', 'KRW-GAS', 'KRW-UPP', 'KRW-ELF', 'KRW-KNC', 'KRW-BSV', 'KRW-THETA', 'KRW-QKC', 'KRW-BTT', 'KRW-MOC', 'KRW-ENJ', 'KRW-TFUEL', 'KRW-MANA', 'KRW-ANKR', 'KRW-AERGO', 'KRW-ATOM', 'KRW-TT', 'KRW-CRE', 'KRW-MBL', 'KRW-WAXP', 'KRW-HBAR', 'KRW-MED', 'KRW-MLK', 'KRW-STPT', 'KRW-ORBS', 'KRW-VET', 'KRW-CHZ', 'KRW-STMX', 'KRW-DKA', 'KRW-HIVE', 'KRW-KAVA', 'KRW-AHT', 'KRW-LINK', 'KRW-XTZ', 'KRW-BORA', 'KRW-JST', 'KRW-CRO', 'KRW-TON', 'KRW-SXP', 'KRW-HUNT', 'KRW-PLA', 'KRW-DOT', 'KRW-SRM', 'KRW-MVL', 'KRW-STRAX', 'KRW-AQT', 'KRW-GLM', 'KRW-SSX', 'KRW-META', 'KRW-FCT2', 'KRW-CBK', 'KRW-SAND', 'KRW-HUM', 'KRW-DOGE', 'KRW-STRK', 'KRW-PUNDIX', 'KRW-FLOW', 'KRW-DAWN', 'KRW-AXS', 'KRW-STX', 'KRW-XEC', 'KRW-SOL', 'KRW-MATIC', 'KRW-NU', 'KRW-AAVE', 'KRW-1INCH', 'KRW-ALGO', 'KRW-NEAR', 'KRW-AVAX', 'KRW-T', 'KRW-CELO', 'KRW-GMT', 'KRW-APT', 'KRW-SHIB']\n"
     ]
    }
   ],
   "source": [
    "tickers = pyupbit.get_tickers(fiat=\"KRW\")\n",
    "print(tickers)"
   ]
  },
  {
   "cell_type": "code",
   "execution_count": 28,
   "id": "77352c2c",
   "metadata": {},
   "outputs": [
    {
     "name": "stdout",
     "output_type": "stream",
     "text": [
      "KRW-ETH 2081000\n",
      "                          open       high        low      close     volume  \\\n",
      "2023-02-05 19:24:00  2100000.0  2100000.0  2100000.0  2100000.0   6.279768   \n",
      "2023-02-05 19:25:00  2100000.0  2100000.0  2098000.0  2098000.0  15.655573   \n",
      "2023-02-05 19:26:00  2098000.0  2100000.0  2098000.0  2100000.0   9.028033   \n",
      "2023-02-05 19:27:00  2100000.0  2101000.0  2097000.0  2098000.0   7.336186   \n",
      "2023-02-05 19:28:00  2098000.0  2098000.0  2096000.0  2097000.0   9.579749   \n",
      "...                        ...        ...        ...        ...        ...   \n",
      "2023-02-05 22:39:00  2082000.0  2082000.0  2081000.0  2082000.0  39.917632   \n",
      "2023-02-05 22:40:00  2082000.0  2082000.0  2080000.0  2081000.0  41.260032   \n",
      "2023-02-05 22:41:00  2081000.0  2081000.0  2080000.0  2081000.0  16.491868   \n",
      "2023-02-05 22:42:00  2080000.0  2082000.0  2079000.0  2082000.0  19.608765   \n",
      "2023-02-05 22:43:00  2080000.0  2081000.0  2080000.0  2081000.0   4.345640   \n",
      "\n",
      "                            value  change  change_rate  \n",
      "2023-02-05 19:24:00  1.318751e+07     NaN          NaN  \n",
      "2023-02-05 19:25:00  3.284926e+07 -2000.0     0.999048  \n",
      "2023-02-05 19:26:00  1.895560e+07  2000.0     1.000953  \n",
      "2023-02-05 19:27:00  1.539184e+07 -2000.0     0.999048  \n",
      "2023-02-05 19:28:00  2.008246e+07 -1000.0     0.999523  \n",
      "...                           ...     ...          ...  \n",
      "2023-02-05 22:39:00  8.309935e+07     0.0     1.000000  \n",
      "2023-02-05 22:40:00  8.587997e+07 -1000.0     0.999520  \n",
      "2023-02-05 22:41:00  3.430771e+07     0.0     1.000000  \n",
      "2023-02-05 22:42:00  4.079221e+07  1000.0     1.000481  \n",
      "2023-02-05 22:43:00  9.039182e+06 -1000.0     0.999520  \n",
      "\n",
      "[200 rows x 8 columns]\n",
      "KRW-NEO 11230\n",
      "                        open     high      low    close        volume  \\\n",
      "2023-02-05 19:16:00  11070.0  11070.0  11060.0  11060.0    263.818465   \n",
      "2023-02-05 19:17:00  11090.0  11090.0  11060.0  11090.0     19.111655   \n",
      "2023-02-05 19:19:00  11090.0  11090.0  11090.0  11090.0      8.193878   \n",
      "2023-02-05 19:20:00  11090.0  11090.0  11070.0  11070.0      8.999055   \n",
      "2023-02-05 19:21:00  11070.0  11080.0  11070.0  11080.0     61.517870   \n",
      "...                      ...      ...      ...      ...           ...   \n",
      "2023-02-05 22:39:00  11170.0  11180.0  11160.0  11180.0   1202.734470   \n",
      "2023-02-05 22:40:00  11180.0  11180.0  11140.0  11150.0   1445.886713   \n",
      "2023-02-05 22:41:00  11140.0  11200.0  11140.0  11180.0   3947.961277   \n",
      "2023-02-05 22:42:00  11200.0  11340.0  11200.0  11300.0  14817.669401   \n",
      "2023-02-05 22:43:00  11300.0  11320.0  11230.0  11230.0   3379.716768   \n",
      "\n",
      "                            value  change  change_rate  \n",
      "2023-02-05 19:16:00  2.917990e+06     NaN          NaN  \n",
      "2023-02-05 19:17:00  2.118130e+05    30.0     1.002712  \n",
      "2023-02-05 19:19:00  9.087011e+04     0.0     1.000000  \n",
      "2023-02-05 19:20:00  9.970971e+04   -20.0     0.998197  \n",
      "2023-02-05 19:21:00  6.815186e+05    10.0     1.000903  \n",
      "...                           ...     ...          ...  \n",
      "2023-02-05 22:39:00  1.343783e+07    10.0     1.000895  \n",
      "2023-02-05 22:40:00  1.614484e+07   -30.0     0.997317  \n",
      "2023-02-05 22:41:00  4.403816e+07    30.0     1.002691  \n",
      "2023-02-05 22:42:00  1.673062e+08   120.0     1.010733  \n",
      "2023-02-05 22:43:00  3.812563e+07   -70.0     0.993805  \n",
      "\n",
      "[200 rows x 8 columns]\n"
     ]
    },
    {
     "ename": "KeyboardInterrupt",
     "evalue": "",
     "output_type": "error",
     "traceback": [
      "\u001b[0;31m---------------------------------------------------------------------------\u001b[0m",
      "\u001b[0;31mKeyboardInterrupt\u001b[0m                         Traceback (most recent call last)",
      "\u001b[0;32m/var/folders/jp/flvjl88x1ld4k0yfl3x8jhcr0000gn/T/ipykernel_75630/2901937058.py\u001b[0m in \u001b[0;36m<module>\u001b[0;34m\u001b[0m\n\u001b[1;32m     12\u001b[0m \u001b[0;34m\u001b[0m\u001b[0m\n\u001b[1;32m     13\u001b[0m     \u001b[0mprint\u001b[0m\u001b[0;34m(\u001b[0m\u001b[0mohlcv_value\u001b[0m\u001b[0;34m)\u001b[0m\u001b[0;34m\u001b[0m\u001b[0;34m\u001b[0m\u001b[0m\n\u001b[0;32m---> 14\u001b[0;31m     \u001b[0mtime\u001b[0m\u001b[0;34m.\u001b[0m\u001b[0msleep\u001b[0m\u001b[0;34m(\u001b[0m\u001b[0;36m1\u001b[0m\u001b[0;34m)\u001b[0m\u001b[0;34m\u001b[0m\u001b[0;34m\u001b[0m\u001b[0m\n\u001b[0m",
      "\u001b[0;31mKeyboardInterrupt\u001b[0m: "
     ]
    }
   ],
   "source": [
    "for ticker in tickers:\n",
    "    \n",
    "    if ticker in [\"KRW-BTC\"]:\n",
    "        continue\n",
    "    \n",
    "    print(ticker, pyupbit.get_current_price(ticker))\n",
    "    \n",
    "    ohlcv_value = pyupbit.get_ohlcv(ticker, interval=\"minute1\")\n",
    "    ## 앞 뒤 \"종가\" 차이를 변화량 \"change\"로 지정\n",
    "    ohlcv_value['change'] = ohlcv_value['close'] - ohlcv_value['close'].shift(1)\n",
    "    ohlcv_value['change_rate'] = (ohlcv_value['close'] / ohlcv_value['close'].shift(1))\n",
    "    \n",
    "    print(ohlcv_value)\n",
    "    time.sleep(1)"
   ]
  },
  {
   "cell_type": "code",
   "execution_count": 21,
   "id": "bed0de33",
   "metadata": {},
   "outputs": [],
   "source": [
    "## API로 업비트에서 내 계좌 조회\n",
    "my_exchange_account = pd.DataFrame(requests.get(\"https://api.upbit.com/v1/accounts\",\n",
    "                                                    headers={\"Authorization\": 'Bearer {}'.format(\n",
    "                                                        jwt.encode({'access_key': A_key,\n",
    "                                                                    'nonce': str(uuid.uuid4())}, S_key))}).json())\n",
    "now_krw = float(my_exchange_account[my_exchange_account['currency'] == 'KRW']['balance'].tail())"
   ]
  },
  {
   "cell_type": "code",
   "execution_count": 22,
   "id": "f7edf5cf",
   "metadata": {},
   "outputs": [
    {
     "data": {
      "text/plain": [
       "57957.47121724"
      ]
     },
     "execution_count": 22,
     "metadata": {},
     "output_type": "execute_result"
    }
   ],
   "source": [
    "now_krw"
   ]
  },
  {
   "cell_type": "code",
   "execution_count": 23,
   "id": "a82acb29",
   "metadata": {},
   "outputs": [
    {
     "name": "stdout",
     "output_type": "stream",
     "text": [
      "34543.45162571\n"
     ]
    }
   ],
   "source": [
    "df = pyupbit.get_ohlcv(ticker, interval=\"minute1\", count=1)\n",
    "\n",
    "# Print the result\n",
    "print(df.iloc[0]['volume'])"
   ]
  },
  {
   "cell_type": "code",
   "execution_count": 24,
   "id": "1e44a8a1",
   "metadata": {},
   "outputs": [
    {
     "ename": "NameError",
     "evalue": "name 'market_code' is not defined",
     "output_type": "error",
     "traceback": [
      "\u001b[0;31m---------------------------------------------------------------------------\u001b[0m",
      "\u001b[0;31mNameError\u001b[0m                                 Traceback (most recent call last)",
      "\u001b[0;32m/var/folders/jp/flvjl88x1ld4k0yfl3x8jhcr0000gn/T/ipykernel_75630/1317524158.py\u001b[0m in \u001b[0;36m<module>\u001b[0;34m\u001b[0m\n\u001b[0;32m----> 1\u001b[0;31m \u001b[0mohlcv_value\u001b[0m \u001b[0;34m=\u001b[0m \u001b[0mpyupbit\u001b[0m\u001b[0;34m.\u001b[0m\u001b[0mget_ohlcv\u001b[0m\u001b[0;34m(\u001b[0m\u001b[0mmarket_code\u001b[0m\u001b[0;34m,\u001b[0m \u001b[0minterval\u001b[0m\u001b[0;34m=\u001b[0m\u001b[0;34m\"minute1\"\u001b[0m\u001b[0;34m)\u001b[0m\u001b[0;34m\u001b[0m\u001b[0;34m\u001b[0m\u001b[0m\n\u001b[0m\u001b[1;32m      2\u001b[0m \u001b[0;31m## 앞 뒤 \"종가\" 차이를 변화량 \"change\"로 지정\u001b[0m\u001b[0;34m\u001b[0m\u001b[0;34m\u001b[0m\u001b[0m\n\u001b[1;32m      3\u001b[0m \u001b[0mohlcv_value\u001b[0m\u001b[0;34m[\u001b[0m\u001b[0;34m'change'\u001b[0m\u001b[0;34m]\u001b[0m \u001b[0;34m=\u001b[0m \u001b[0mohlcv_value\u001b[0m\u001b[0;34m[\u001b[0m\u001b[0;34m'close'\u001b[0m\u001b[0;34m]\u001b[0m \u001b[0;34m-\u001b[0m \u001b[0mohlcv_value\u001b[0m\u001b[0;34m[\u001b[0m\u001b[0;34m'close'\u001b[0m\u001b[0;34m]\u001b[0m\u001b[0;34m.\u001b[0m\u001b[0mshift\u001b[0m\u001b[0;34m(\u001b[0m\u001b[0;36m1\u001b[0m\u001b[0;34m)\u001b[0m\u001b[0;34m\u001b[0m\u001b[0;34m\u001b[0m\u001b[0m\n\u001b[1;32m      4\u001b[0m \u001b[0mprint\u001b[0m\u001b[0;34m(\u001b[0m\u001b[0mohlcv_value\u001b[0m\u001b[0;34m)\u001b[0m\u001b[0;34m\u001b[0m\u001b[0;34m\u001b[0m\u001b[0m\n",
      "\u001b[0;31mNameError\u001b[0m: name 'market_code' is not defined"
     ]
    }
   ],
   "source": [
    "ohlcv_value = pyupbit.get_ohlcv(market_code, interval=\"minute1\")\n",
    "## 앞 뒤 \"종가\" 차이를 변화량 \"change\"로 지정\n",
    "ohlcv_value['change'] = ohlcv_value['close'] - ohlcv_value['close'].shift(1)\n",
    "print(ohlcv_value)"
   ]
  },
  {
   "cell_type": "code",
   "execution_count": null,
   "id": "757275b9",
   "metadata": {},
   "outputs": [],
   "source": []
  }
 ],
 "metadata": {
  "kernelspec": {
   "display_name": "Python 3 (ipykernel)",
   "language": "python",
   "name": "python3"
  },
  "language_info": {
   "codemirror_mode": {
    "name": "ipython",
    "version": 3
   },
   "file_extension": ".py",
   "mimetype": "text/x-python",
   "name": "python",
   "nbconvert_exporter": "python",
   "pygments_lexer": "ipython3",
   "version": "3.9.13"
  }
 },
 "nbformat": 4,
 "nbformat_minor": 5
}
