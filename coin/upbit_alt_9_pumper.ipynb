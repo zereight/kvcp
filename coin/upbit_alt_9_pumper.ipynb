{
 "cells": [
  {
   "cell_type": "code",
   "execution_count": 1,
   "id": "5c8130ec",
   "metadata": {},
   "outputs": [],
   "source": [
    "# https://docs.upbit.com/docs/upbit-quotation-websocket\n",
    "\n",
    "import multiprocessing as mp\n",
    "import pyupbit\n",
    "import pandas as pd\n",
    "import numpy as np\n",
    "import datetime\n",
    "import json\n",
    "from pytz import timezone\n",
    "from sendMail import send_email\n",
    "import time\n",
    "import requests, jwt, uuid\n",
    "\n",
    "## 인증\n",
    "f = open(\"업비트정보.private.json\", \"r\")\n",
    "api_key = json.load(f)\n",
    "f.close()\n",
    "A_key = api_key[\"accessKey\"]  # 본인 access_key 키로 변경\n",
    "S_key = api_key[\"secretKey\"]  # 본인 secret_key 키로 변경\n",
    "\n",
    "손절률 = -2\n",
    "손익률 = 2\n",
    "\n",
    "구매했음 = False\n",
    "내가_구매했던_signed_change_rate = 0\n",
    "내가_구매했던_가격 = 0\n",
    "최대수집데이터량 = 100000\n",
    "급등코인 = \"\"\n",
    "\n",
    "def 구매(market_code):\n",
    "    try:\n",
    "        ## API로 업비트에서 내 계좌 조회\n",
    "        my_exchange_account = pd.DataFrame(requests.get(\"https://api.upbit.com/v1/accounts\", headers={\"Authorization\": 'Bearer {}'.format(jwt.encode({'access_key': A_key,'nonce': str(uuid.uuid4())}, S_key))}).json())\n",
    "        now_krw = float(my_exchange_account[my_exchange_account['currency'] == 'KRW']['balance'][0])\n",
    "        # 원화의 20%를 매수\n",
    "        order_amount = round(now_krw * 0.2)\n",
    "        send_email(f'{market_code} 구매', \"9시 펌핑코인 매수\")\n",
    "        \n",
    "        buy_market_order_data = pd.DataFrame.from_dict(pyupbit.Upbit(A_key, S_key).buy_market_order(market_code, order_amount), orient='index').T\n",
    "\n",
    "        return buy_market_order_data\n",
    "    except Exception as e:\n",
    "        print(e)\n",
    "\n",
    "def 판매(market_code):\n",
    "    try:\n",
    "        order_quantity = pyupbit.Upbit(A_key, S_key).get_balance(market_code)\n",
    "        send_email(f'{market_code} 판매', \"9시 펌핑코인 판매\")\n",
    "        sell_market_order_data = pd.DataFrame.from_dict(\n",
    "            pyupbit.Upbit(A_key, S_key).sell_market_order(market_code, order_quantity), orient='index').T\n",
    "\n",
    "        return sell_market_order_data\n",
    "    except Exception as e:\n",
    "        print(e)\n",
    "\n",
    "\n",
    "## 본 로직\n",
    "if __name__ == \"__main__\":\n",
    "\n",
    "    while True:\n",
    "        현재날짜 = datetime.datetime.now(timezone('Asia/Seoul')).strftime('%Y-%m-%d %H:%M')\n",
    "        if(\"09:\" in current_time):\n",
    "            # 9시가 되면, 원화마켓에 대해서 웹소켓 연결\n",
    "            krw_tickers = pyupbit.get_tickers(fiat=\"KRW\")\n",
    "            queue = mp.Queue()\n",
    "            proc = mp.Process(\n",
    "                target=pyupbit.WebSocketClient,\n",
    "                args=('ticker', krw_tickers, queue),\n",
    "                daemon=True\n",
    "            )\n",
    "            proc.start()\n",
    "\n",
    "            excel_data = pd.DataFrame()\n",
    "            count  = 0\n",
    "\n",
    "            # 9시 웹소켓 로직 실ㅇ\n",
    "            while True:\n",
    "                # 현재시간\n",
    "                current_time = datetime.datetime.now(timezone('Asia/Seoul')).strftime('%Y-%m-%d %H:%M')\n",
    "\n",
    "                count+=1\n",
    "                data = queue.get()\n",
    "\n",
    "                ts = data['trade_timestamp']\n",
    "                data[\"trade_timestamp\"] = datetime.datetime.fromtimestamp(ts/1000)\n",
    "                data[\"signed_change_rate\"] = data[\"signed_change_rate\"] * 100\n",
    "                data[\"change_rate\"] = data[\"change_rate\"] * 100\n",
    "\n",
    "                # 엑셀 데이터 수집\n",
    "                new_excel_data = pd.DataFrame(data, index=[0])\n",
    "                if len(excel_data) == 0:\n",
    "                    excel_data = new_excel_data\n",
    "                else:\n",
    "                    excel_data = pd.concat([excel_data, new_excel_data])\n",
    "                if(count == 최대수집데이터량):\n",
    "                    현재날짜 = datetime.datetime.now(timezone('Asia/Seoul')).strftime('%Y-%m-%d')\n",
    "                    excel_data.to_excel(f'급등데이터_{현재날짜}.xlsx', index=False)\n",
    "                    break\n",
    "\n",
    "                try:\n",
    "                    # 급등여부 판단\n",
    "                    # 200개의 데이터를 받았는데, 그중에 매수신호를 가장 많이 받은 녀석 구매\n",
    "                    if (count == 200):\n",
    "                        급등코인 = excel_data[excel_data[\"ask_bid\"] == \"BID\"][\"code\"].value_counts(sort=True).index[0]\n",
    "                        내가_구매했던_signed_change_rate = data[\"signed_change_rate\"]\n",
    "                        구매데이터 = 구매(급등코인)\n",
    "                        구매했음 = True\n",
    "                        내가_구매했던_가격 = 구매데이터[\"price\"]\n",
    "\n",
    "\n",
    "                    # 판매 감지 로직 실행\n",
    "                    if(구매했음 == True):\n",
    "                        # 구매한뒤_등락율 = ((data[\"signed_change_rate\"] / 내가_구매했던_signed_change_rate) * 100) - 100\n",
    "                        구매한뒤_등락율 = ((data[\"trade_price\"] / 내가_구매했던_가격) * 100) - 100\n",
    "                        if(구매한뒤_등락율 > 손익률):\n",
    "                            판매(급등코인) # 익절\n",
    "                            구매했음 = False\n",
    "                        elif(구매한뒤_등락율 < 손절률):\n",
    "                            판매(급등코인) # 손절\n",
    "                            구매했음 = False\n",
    "                except Exception as error:\n",
    "                    print(error)"
   ]
  },
  {
   "cell_type": "code",
   "execution_count": 5,
   "id": "b27a031b",
   "metadata": {},
   "outputs": [],
   "source": [
    "import pandas as pd\n",
    "import datetime\n",
    "from pytz import timezone\n",
    "\n",
    "현재날짜 = datetime.datetime.now(timezone('Asia/Seoul')).strftime('%Y-%m-%d')\n",
    "엑셀데이터 = pd.read_excel(f'급등데이터_{현재날짜}.xlsx')\n",
    "\n"
   ]
  },
  {
   "cell_type": "code",
   "execution_count": 13,
   "id": "e41a8012",
   "metadata": {},
   "outputs": [
    {
     "name": "stderr",
     "output_type": "stream",
     "text": [
      "/var/folders/jp/flvjl88x1ld4k0yfl3x8jhcr0000gn/T/ipykernel_52447/1237826734.py:1: UserWarning: Boolean Series key will be reindexed to match DataFrame index.\n",
      "  엑셀데이터[:201][엑셀데이터[\"ask_bid\"] == \"BID\"][\"code\"].value_counts(sort=True).index[0]\n"
     ]
    },
    {
     "data": {
      "text/plain": [
       "'KRW-STEEM'"
      ]
     },
     "execution_count": 13,
     "metadata": {},
     "output_type": "execute_result"
    }
   ],
   "source": [
    "엑셀데이터[:201][엑셀데이터[\"ask_bid\"] == \"BID\"][\"code\"].value_counts(sort=True).index[0]"
   ]
  },
  {
   "cell_type": "code",
   "execution_count": null,
   "id": "b0d0a2bd",
   "metadata": {},
   "outputs": [],
   "source": []
  }
 ],
 "metadata": {
  "kernelspec": {
   "display_name": "Python 3",
   "language": "python",
   "name": "python3"
  },
  "language_info": {
   "codemirror_mode": {
    "name": "ipython",
    "version": 3
   },
   "file_extension": ".py",
   "mimetype": "text/x-python",
   "name": "python",
   "nbconvert_exporter": "python",
   "pygments_lexer": "ipython3",
   "version": "3.10.6"
  },
  "vscode": {
   "interpreter": {
    "hash": "b0fa6594d8f4cbf19f97940f81e996739fb7646882a419484c72d19e05852a7e"
   }
  }
 },
 "nbformat": 4,
 "nbformat_minor": 5
}
