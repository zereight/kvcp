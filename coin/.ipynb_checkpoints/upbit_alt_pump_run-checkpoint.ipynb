{
 "cells": [
  {
   "cell_type": "code",
   "execution_count": null,
   "id": "0a291365",
   "metadata": {},
   "outputs": [],
   "source": [
    "# 원화마켓o, 유의종목x, BTCx 코인에 대해서\n",
    "# 실시간으로 1분봉의 정보들을 가져오고\n",
    "# 1초마다 체크해서\n",
    "# 1분안에 이전 1분봉대비 10%가 오른 코인에 대해서\n",
    "# 원화의 20%를 시장가매수하고\n",
    "# 1초마다 체크해서\n",
    "# 5%이상의 수익이 나오면 시장가매도를 한다.\n",
    "# 계속 반복한다."
   ]
  },
  {
   "cell_type": "code",
   "execution_count": 2,
   "id": "28bb554f",
   "metadata": {},
   "outputs": [],
   "source": [
    "import requests, time, jwt, uuid, pyupbit, datetime\n",
    "import pandas as pd\n",
    "import numpy as np\n",
    "from sendMail import send_email\n",
    "import json\n",
    "\n",
    "f = open(\"업비트정보.private.json\", \"r\")\n",
    "api_key = json.load(f)\n",
    "f.close()\n",
    "\n",
    "A_key = api_key[\"accessKey\"]  # 본인 access_key 키로 변경\n",
    "S_key = api_key[\"secretKey\"]  # 본인 secret_key 키로 변경"
   ]
  },
  {
   "cell_type": "code",
   "execution_count": null,
   "id": "052eaef2",
   "metadata": {},
   "outputs": [],
   "source": []
  },
  {
   "cell_type": "code",
   "execution_count": null,
   "id": "fe7fe939",
   "metadata": {},
   "outputs": [],
   "source": []
  }
 ],
 "metadata": {
  "kernelspec": {
   "display_name": "Python 3 (ipykernel)",
   "language": "python",
   "name": "python3"
  },
  "language_info": {
   "codemirror_mode": {
    "name": "ipython",
    "version": 3
   },
   "file_extension": ".py",
   "mimetype": "text/x-python",
   "name": "python",
   "nbconvert_exporter": "python",
   "pygments_lexer": "ipython3",
   "version": "3.9.13"
  }
 },
 "nbformat": 4,
 "nbformat_minor": 5
}
